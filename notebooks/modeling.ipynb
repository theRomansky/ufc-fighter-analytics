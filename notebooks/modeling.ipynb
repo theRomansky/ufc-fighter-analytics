{
 "cells": [
  {
   "cell_type": "code",
   "id": "initial_id",
   "metadata": {
    "collapsed": true,
    "ExecuteTime": {
     "end_time": "2024-04-19T15:44:58.236741Z",
     "start_time": "2024-04-19T15:44:58.234269Z"
    }
   },
   "source": [
    "import numpy as np\n",
    "import pickle\n",
    "import matplotlib.pyplot as plt\n",
    "import seaborn as sns\n",
    "import scipy.stats as stats\n",
    "from sklearn.linear_model import LinearRegression\n",
    "from sklearn.metrics import mean_squared_error\n",
    "from sklearn.model_selection import cross_val_score"
   ],
   "outputs": [],
   "execution_count": 127
  },
  {
   "metadata": {
    "ExecuteTime": {
     "end_time": "2024-04-19T15:44:58.240939Z",
     "start_time": "2024-04-19T15:44:58.238015Z"
    }
   },
   "cell_type": "code",
   "source": [
    "# Load the training and testing sets from a pickle file\n",
    "with open('../data/datasets.pkl', 'rb') as f:\n",
    "    X_train, X_test, y_train, y_test = pickle.load(f)"
   ],
   "id": "96052e3a847815d8",
   "outputs": [],
   "execution_count": 128
  },
  {
   "metadata": {
    "ExecuteTime": {
     "end_time": "2024-04-19T15:44:58.243822Z",
     "start_time": "2024-04-19T15:44:58.241826Z"
    }
   },
   "cell_type": "code",
   "source": [
    "# Convert y_train and y_test to numpy arrays\n",
    "y_train = np.array(y_train, copy=True)\n",
    "y_test = np.array(y_test, copy=True)"
   ],
   "id": "1bc293fb7a40cde2",
   "outputs": [],
   "execution_count": 129
  }
 ],
 "metadata": {
  "kernelspec": {
   "display_name": "Python 3",
   "language": "python",
   "name": "python3"
  },
  "language_info": {
   "codemirror_mode": {
    "name": "ipython",
    "version": 2
   },
   "file_extension": ".py",
   "mimetype": "text/x-python",
   "name": "python",
   "nbconvert_exporter": "python",
   "pygments_lexer": "ipython2",
   "version": "2.7.6"
  }
 },
 "nbformat": 4,
 "nbformat_minor": 5
}
